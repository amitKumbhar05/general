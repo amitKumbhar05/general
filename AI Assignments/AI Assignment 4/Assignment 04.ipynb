{
 "cells": [
  {
   "cell_type": "code",
   "execution_count": 1,
   "id": "b0f3a579-1b88-426d-a7bd-0ae3d8e56799",
   "metadata": {},
   "outputs": [
    {
     "name": "stdout",
     "output_type": "stream",
     "text": [
      "Matrix is:-  [[0, 1, 0, 0], [0, 0, 0, 1], [1, 0, 0, 0], [0, 0, 1, 0]]\n",
      "Dictionary is:-  {0: 1, 1: 3, 2: 0, 3: 2}\n"
     ]
    }
   ],
   "source": [
    "# Number of queens\n",
    "n=4\n",
    "# Matrix\n",
    "a=[[0,0,0,0],[0,0,0,0],[0,0,0,0],[0,0,0,0]]\n",
    "# Dictionary for backtrack\n",
    "b={}\n",
    "\n",
    "# Checking if column is safe\n",
    "def isColumnSafe(r,c):\n",
    "    while(r>=0):\n",
    "        if(a[r][c] == 1):\n",
    "            return 0\n",
    "        r = r-1\n",
    "    return 1\n",
    "\n",
    "# Checking if left diagonal is safe\n",
    "def isLeftDiagonalSafe(r,c):\n",
    "    while(r>=0 and c>=0):\n",
    "        if(a[r][c] == 1):\n",
    "            return 0\n",
    "        r = r-1\n",
    "        c = c-1\n",
    "    return 1\n",
    "\n",
    "# Checking if right diagonal is safe\n",
    "def isRightDiagonalSafe(r,c):\n",
    "    while(r>=0 and c<n):\n",
    "        if(a[r][c]==1):\n",
    "            return 0\n",
    "        r = r-1\n",
    "        c = c+1\n",
    "    return 1\n",
    "\n",
    "def isSafe(r,c):\n",
    "    if(isColumnSafe(r,c) and isLeftDiagonalSafe(r,c) and isRightDiagonalSafe(r,c)):\n",
    "        return True\n",
    "    return False\n",
    "def chessboard(r,c):\n",
    "    if(r>=n):\n",
    "        return \n",
    "    p = 0\n",
    "    while c<n:\n",
    "        p = isSafe(r,c)\n",
    "        if p == 1:\n",
    "            a[r][c] = 1\n",
    "            b.update({r:c})\n",
    "            break\n",
    "        c=c+1\n",
    "    \n",
    "    if p==1:\n",
    "        chessboard(r+1,0)\n",
    "    else:\n",
    "        a[r-1][b.get(r-1)]=0\n",
    "        chessboard(r-1,int(b.get(r-1))+1)\n",
    "chessboard(0,0)\n",
    "print(\"Matrix is:- \",a)\n",
    "print(\"Dictionary is:- \",b)"
   ]
  }
 ],
 "metadata": {
  "kernelspec": {
   "display_name": "Python 3 (ipykernel)",
   "language": "python",
   "name": "python3"
  },
  "language_info": {
   "codemirror_mode": {
    "name": "ipython",
    "version": 3
   },
   "file_extension": ".py",
   "mimetype": "text/x-python",
   "name": "python",
   "nbconvert_exporter": "python",
   "pygments_lexer": "ipython3",
   "version": "3.10.7"
  }
 },
 "nbformat": 4,
 "nbformat_minor": 5
}
